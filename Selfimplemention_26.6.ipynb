{
 "cells": [
  {
   "cell_type": "markdown",
   "source": [
    "## Numbers ##"
   ],
   "metadata": {
    "collapsed": false,
    "pycharm": {
     "name": "#%% md\n"
    }
   }
  },
  {
   "cell_type": "code",
   "execution_count": 4,
   "outputs": [
    {
     "name": "stdout",
     "output_type": "stream",
     "text": [
      "mu*: -5.011495754472448\n",
      "var*: -3.638315318208253\n",
      "95% confidence interval: [-8.826369444758015, -1.196622064186882]\n"
     ]
    }
   ],
   "source": [],
   "metadata": {
    "collapsed": false,
    "pycharm": {
     "name": "#%%\n"
    }
   }
  },
  {
   "cell_type": "code",
   "execution_count": 7,
   "outputs": [
    {
     "data": {
      "text/plain": "<Figure size 432x288 with 1 Axes>",
      "image/png": "[encoded data removed]"
     },
     "metadata": {
      "needs_background": "light"
     },
     "output_type": "display_data"
    }
   ],
   "source": [
    "import numpy as np\n",
    "import matplotlib.pyplot as plt\n",
    "\n",
    "# Define function values and their derivatives\n",
    "f = np.array([0, 1, 2, 0])\n",
    "\n",
    "# Define kernel function and its derivatives\n",
    "def kernel(x, y):\n",
    "    return np.exp(-0.5 * (x - y)**2)\n",
    "\n",
    "def kernel_derivative(x, y):\n",
    "    return (y - x) * kernel(x, y)\n",
    "\n",
    "def kernel_second_derivative(x, y):\n",
    "    return (1 - (y - x)**2) * kernel(x, y)\n",
    "\n",
    "# Define points and values\n",
    "x = np.array([1, 2])\n",
    "f_values = np.array([0, 1])\n",
    "df_values = np.array([2, 0])\n",
    "\n",
    "# Construct covariance matrix\n",
    "K = np.zeros((4, 4))\n",
    "for i in range(2):\n",
    "    for j in range(2):\n",
    "        K[i, j] = kernel(x[i], x[j])\n",
    "        K[i, j+2] = kernel_derivative(x[i], x[j])\n",
    "        K[i+2, j] = K[j, i+2]\n",
    "        K[i+2, j+2] = kernel_second_derivative(x[i], x[j])\n",
    "\n",
    "x_stars = np.linspace(0, 4, 1000)  # range of x_star values\n",
    "mu_stars = []\n",
    "upper_bounds = []\n",
    "lower_bounds = []\n",
    "\n",
    "for x_star in x_stars:\n",
    "    # Construct covariance vector K_*\n",
    "    K_star = np.zeros(4)\n",
    "    for i in range(2):\n",
    "        K_star[i] = kernel(x_star, x[i])\n",
    "        K_star[i+2] = kernel_derivative(x_star, x[i])\n",
    "\n",
    "    # Calculate predictive mean mu* and variance var*\n",
    "    K_inv_f = np.linalg.solve(K, f)\n",
    "    mu_star = K_star @ K_inv_f\n",
    "    var_star = kernel(x_star, x_star) - K_star @ np.linalg.solve(K, K_star)\n",
    "\n",
    "    # Apply logistic transformation\n",
    "    mu_star = 1 / (1 + np.exp(-mu_star))\n",
    "    upper_bound = 1 / (1 + np.exp(-mu_star + 2*np.sqrt(np.abs(var_star))))\n",
    "    lower_bound = 1 / (1 + np.exp(-mu_star - 2*np.sqrt(np.abs(var_star))))\n",
    "\n",
    "    mu_stars.append(mu_star)\n",
    "    upper_bounds.append(upper_bound)\n",
    "    lower_bounds.append(lower_bound)\n",
    "\n",
    "# Plotting\n",
    "plt.plot(x, f_values, 'bo')\n",
    "plt.plot(x_stars, mu_stars, 'ro')\n",
    "plt.fill_between(x_stars, lower_bounds, upper_bounds, color='r', alpha=0.1)\n",
    "plt.xlabel('x')\n",
    "plt.ylabel('y')\n",
    "plt.title('Confidence interval of prediction at x*')\n",
    "plt.show()\n"
   ],
   "metadata": {
    "collapsed": false,
    "pycharm": {
     "name": "#%%\n"
    }
   }
  },
  {
   "cell_type": "code",
   "execution_count": 6,
   "outputs": [
    {
     "data": {
      "text/plain": "<Figure size 432x288 with 1 Axes>",
      "image/png": "[encoded data removed]"
     },
     "metadata": {
      "needs_background": "light"
     },
     "output_type": "display_data"
    }
   ],
   "source": [],
   "metadata": {
    "collapsed": false,
    "pycharm": {
     "name": "#%%\n"
    }
   }
  }
 ],
 "metadata": {
  "kernelspec": {
   "display_name": "Python 3",
   "language": "python",
   "name": "python3"
  },
  "language_info": {
   "codemirror_mode": {
    "name": "ipython",
    "version": 2
   },
   "file_extension": ".py",
   "mimetype": "text/x-python",
   "name": "python",
   "nbconvert_exporter": "python",
   "pygments_lexer": "ipython2",
   "version": "2.7.6"
  }
 },
 "nbformat": 4,
 "nbformat_minor": 0
}