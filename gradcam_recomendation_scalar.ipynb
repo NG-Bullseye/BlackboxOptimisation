{
 "cells": [
  {
   "cell_type": "code",
   "execution_count": 6,
   "outputs": [
    {
     "name": "stdout",
     "output_type": "stream",
     "text": [
      "['/home/lwecke/Datensätze/Datensatz_v1_50p_3reg/Bulktraining_Outputs/Lenet5_kroger_5epochs_2023_11_08/yaw/yaw_0.918367326259613/element_spec.pkl', '/home/lwecke/Datensätze/Datensatz_v1_50p_3reg/Bulktraining_Outputs/Lenet5_kroger_5epochs_2023_11_08/yaw/yaw_0.918367326259613/Roc.png', '/home/lwecke/Datensätze/Datensatz_v1_50p_3reg/Bulktraining_Outputs/Lenet5_kroger_5epochs_2023_11_08/yaw/yaw_0.918367326259613/tensorboard_link.txt', '/home/lwecke/Datensätze/Datensatz_v1_50p_3reg/Bulktraining_Outputs/Lenet5_kroger_5epochs_2023_11_08/yaw/yaw_0.918367326259613/cnn_acc53.0_auc0.6.h5', '/home/lwecke/Datensätze/Datensatz_v1_50p_3reg/Bulktraining_Outputs/Lenet5_kroger_5epochs_2023_11_08/yaw/yaw_0.918367326259613/gradcamPP_mean_Img_yaw0.9183673.png', '/home/lwecke/Datensätze/Datensatz_v1_50p_3reg/Bulktraining_Outputs/Lenet5_kroger_5epochs_2023_11_08/yaw/yaw_0.918367326259613/params_for_this_training.yaml', '/home/lwecke/Datensätze/Datensatz_v1_50p_3reg/Bulktraining_Outputs/Lenet5_kroger_5epochs_2023_11_08/yaw/yaw_0.918367326259613/results.yaml', '/home/lwecke/Datensätze/Datensatz_v1_50p_3reg/Bulktraining_Outputs/Lenet5_kroger_5epochs_2023_11_08/yaw/yaw_0.918367326259613/training_history.json']\n"
     ]
    },
    {
     "data": {
      "text/plain": "<Figure size 1000x6000 with 2 Axes>",
      "image/png": "[encoded data removed]"
     },
     "metadata": {},
     "output_type": "display_data"
    }
   ],
   "source": [
    "import os\n",
    "import matplotlib.pyplot as plt\n",
    "import matplotlib.image as mpimg\n",
    "import matplotlib.patches as patches\n",
    "import numpy as np\n",
    "import cv2\n",
    "import yaml\n",
    "\n",
    "p = os.path.abspath('.')\n",
    "#sys.path.insert(1, p)\n",
    "IMAGE_FOLDER = \"/home/lwecke/Datensätze/Datensatz_v1_50p_3reg/Bulktraining_Outputs/Lenet5_kroger_5epochs_2023_11_08/yaw/yaw_0.918367326259613\"\n",
    "\n",
    "image_paths=[]\n",
    "for filename in os.listdir(IMAGE_FOLDER):\n",
    "    file_path = os.path.join(IMAGE_FOLDER, filename)\n",
    "    if not os.path.isdir(file_path):\n",
    "        image_paths.append(file_path)\n",
    "print(image_paths)\n",
    "image_dict = {}\n",
    "for image_path in image_paths:\n",
    "    # Load the image\n",
    "    if \"gradcam\" not in image_path:\n",
    "        continue\n",
    "    img = cv2.imread(image_path)\n",
    "\n",
    "    # Check if the image was correctly loaded\n",
    "    if img is not None:\n",
    "        # Convert the image to RGB\n",
    "        img_rgb = cv2.cvtColor(img, cv2.COLOR_BGR2RGB)\n",
    "\n",
    "        # Store the image data in the dictionary\n",
    "        # Use the image path as the key and the RGB data as the value\n",
    "        image_dict[image_path] = img_rgb\n",
    "\n",
    "# Adjust the size of the figure\n",
    "fig = plt.figure(figsize=(10,60))\n",
    "imagePath_gravity_dict = {}\n",
    "\n",
    "for idx, (image_path, image) in enumerate(image_dict.items()):\n",
    "    img = mpimg.imread(image_path)\n",
    "\n",
    "    # If the image was not correctly loaded, return None\n",
    "    if img is None:\n",
    "        print(\"Image not found at path:\", image_path)\n",
    "        imagePath_gravity_dict[image_path]= (-1,-1)\n",
    "        continue\n",
    "\n",
    "    # Convert the image to grayscale\n",
    "    grayscale_img = cv2.cvtColor(img, cv2.COLOR_RGB2GRAY)\n",
    "\n",
    "    # Compute the weighted average of the pixel coordinates\n",
    "    height, width = grayscale_img.shape\n",
    "    x_coords, y_coords = np.meshgrid(np.arange(width), np.arange(height))\n",
    "    total_weight = np.sum(grayscale_img)\n",
    "    avg_x = np.sum(x_coords * grayscale_img) / total_weight\n",
    "    avg_y = np.sum(y_coords * grayscale_img) / total_weight\n",
    "\n",
    "    # Round the average coordinates\n",
    "    avg_x_rounded = round(avg_x)\n",
    "    avg_y_rounded = round(avg_y)\n",
    "\n",
    "    # Compute the center of the image\n",
    "    center_x = round(width / 2)\n",
    "    center_y = round(height / 2)\n",
    "\n",
    "   # Compute the vector from the center of the image to the center of gravity\n",
    "    vector_x = avg_x_rounded - center_x\n",
    "    vector_y = center_y - avg_y_rounded # Change here, invert the direction of y\n",
    "    vector_length = np.sqrt(vector_x**2 + vector_y**2)\n",
    "\n",
    "    # Plot the original image\n",
    "    ax1 = fig.add_subplot(len(image_dict), 2, 2*idx+1)\n",
    "    ax1.imshow(img)\n",
    "    ax1.axis('off')\n",
    "    ax1.set_title(f\"Original\\nx: {avg_x_rounded}, y: {avg_y_rounded}\", fontsize=10, loc='center')\n",
    "\n",
    "    # Plot the image with the center of gravity marked\n",
    "    ax2 = fig.add_subplot(len(image_dict), 2, 2*idx+2)\n",
    "    ax2.imshow(img)\n",
    "\n",
    "    # Draw a green square at the center of gravity\n",
    "    rect_gravity = patches.Rectangle((avg_x_rounded-5, avg_y_rounded-5), 10, 10, linewidth=1, edgecolor='g', facecolor='none')\n",
    "    ax2.add_patch(rect_gravity)\n",
    "\n",
    "    # Draw a red square at the center of the image\n",
    "    rect_image = patches.Rectangle((center_x-5, center_y-5), 10, 10, linewidth=1, edgecolor='r', facecolor='none')\n",
    "    ax2.add_patch(rect_image)\n",
    "\n",
    "    # Draw a blue arrow from the center of the image to the center of gravity\n",
    "    ax2.arrow(center_x, center_y, vector_x, vector_y, head_width=5, head_length=10, fc='blue', ec='blue')\n",
    "\n",
    "    ax2.axis('off')\n",
    "    ax2.set_title(f\"Center of Gravity Gradient\\nx: {avg_x_rounded}, y: {avg_y_rounded}, Vector length: {vector_length:.2f}\", fontsize=10, loc='center')\n",
    "\n",
    "plt.tight_layout(pad=0)\n",
    "plt.show()\n"
   ],
   "metadata": {
    "collapsed": false,
    "pycharm": {
     "name": "#%%\n"
    },
    "ExecuteTime": {
     "end_time": "2023-08-14T13:07:07.893275974Z",
     "start_time": "2023-08-14T13:07:07.684105151Z"
    }
   }
  },
  {
   "cell_type": "code",
   "execution_count": null,
   "outputs": [],
   "source": [],
   "metadata": {
    "collapsed": false
   }
  }
 ],
 "metadata": {
  "kernelspec": {
   "display_name": "Python 3",
   "language": "python",
   "name": "python3"
  },
  "language_info": {
   "codemirror_mode": {
    "name": "ipython",
    "version": 2
   },
   "file_extension": ".py",
   "mimetype": "text/x-python",
   "name": "python",
   "nbconvert_exporter": "python",
   "pygments_lexer": "ipython2",
   "version": "2.7.6"
  }
 },
 "nbformat": 4,
 "nbformat_minor": 0
}
